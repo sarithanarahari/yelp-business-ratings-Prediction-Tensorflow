{
 "cells": [
  {
   "cell_type": "markdown",
   "metadata": {},
   "source": [
    "## Star Predicting on yelp Dataset"
   ]
  },
  {
   "cell_type": "code",
   "execution_count": 64,
   "metadata": {},
   "outputs": [],
   "source": [
    "import collections\n",
    "from sklearn import preprocessing\n",
    "import matplotlib.pyplot as plt\n",
    "import numpy as np\n",
    "import pandas as pd\n",
    "import shutil\n",
    "import os\n",
    "\n",
    "\n",
    "# Encode text values to dummy variables(i.e. [1,0,0],[0,1,0],[0,0,1] for red,green,blue)\n",
    "def encode_text_dummy(df, name):\n",
    "    dummies = pd.get_dummies(df[name])\n",
    "    for x in dummies.columns:\n",
    "        dummy_name = \"{}-{}\".format(name, x)\n",
    "        df[dummy_name] = dummies[x]\n",
    "    df.drop(name, axis=1, inplace=True)\n",
    "\n",
    "\n",
    "\n",
    "# Encode text values to indexes(i.e. [1],[2],[3] for red,green,blue).\n",
    "def encode_text_index(df, name):\n",
    "    le = preprocessing.LabelEncoder()\n",
    "    df[name] = le.fit_transform(df[name])\n",
    "    return le.classes_\n",
    "\n",
    "\n",
    "# Encode a numeric column as zscores\n",
    "def encode_numeric_zscore(df, name, mean=None, sd=None):\n",
    "    if mean is None:\n",
    "        mean = df[name].mean()\n",
    "\n",
    "    if sd is None:\n",
    "        sd = df[name].std()\n",
    "\n",
    "    df[name] = (df[name] - mean) / sd\n",
    "\n",
    "\n",
    "# Convert all missing values in the specified column to the median\n",
    "def missing_median(df, name):\n",
    "    med = df[name].median()\n",
    "    df[name] = df[name].fillna(med)\n",
    "\n",
    "\n",
    "# Convert all missing values in the specified column to the default\n",
    "def missing_default(df, name, default_value):\n",
    "    df[name] = df[name].fillna(default_value)\n",
    "\n",
    "\n",
    "# Convert a Pandas dataframe to the x,y inputs that TensorFlow needs\n",
    "def to_xy(df, target):\n",
    "    result = []\n",
    "    for x in df.columns:\n",
    "        if x != target:\n",
    "            result.append(x)\n",
    "    # find out the type of the target column. \n",
    "    target_type = df[target].dtypes\n",
    "    target_type = target_type[0] if isinstance(target_type, collections.Sequence) else target_type\n",
    "    # Encode to int for classification, float otherwise. TensorFlow likes 32 bits.\n",
    "    if target_type in (np.int64, np.int32):\n",
    "        # Classification\n",
    "        dummies = pd.get_dummies(df[target])\n",
    "        return df[result].values.astype(np.float32), dummies.values.astype(np.float32)\n",
    "    else:\n",
    "        # Regression\n",
    "        return df[result].values.astype(np.float32), df[target].values.astype(np.float32)\n",
    "\n",
    "# Nicely formatted time string\n",
    "def hms_string(sec_elapsed):\n",
    "    h = int(sec_elapsed / (60 * 60))\n",
    "    m = int((sec_elapsed % (60 * 60)) / 60)\n",
    "    s = sec_elapsed % 60\n",
    "    return \"{}:{:>02}:{:>05.2f}\".format(h, m, s)\n",
    "\n",
    "\n",
    "# Regression chart.\n",
    "def chart_regression(pred,y,sort=True):\n",
    "    t = pd.DataFrame({'pred' : pred, 'y' : y.flatten()})\n",
    "    if sort:\n",
    "        t.sort_values(by=['y'],inplace=True)\n",
    "    a = plt.plot(t['y'].tolist(),label='expected')\n",
    "    b = plt.plot(t['pred'].tolist(),label='prediction')\n",
    "    plt.ylabel('output')\n",
    "    plt.legend()\n",
    "    plt.show()\n",
    "\n",
    "# Remove all rows where the specified column is +/- sd standard deviations\n",
    "def remove_outliers(df, name, sd):\n",
    "    drop_rows = df.index[(np.abs(df[name] - df[name].mean()) >= (sd * df[name].std()))]\n",
    "    df.drop(drop_rows, axis=0, inplace=True)\n",
    "\n",
    "\n",
    "# Encode a column to a range between normalized_low and normalized_high.\n",
    "def encode_numeric_range(df, name, normalized_low=-1, normalized_high=1,\n",
    "                         data_low=None, data_high=None):\n",
    "    if data_low is None:\n",
    "        data_low = min(df[name])\n",
    "        data_high = max(df[name])\n",
    "\n",
    "    df[name] = ((df[name] - data_low) / (data_high - data_low)) \\\n",
    "               * (normalized_high - normalized_low) + normalized_low\n"
   ]
  },
  {
   "cell_type": "code",
   "execution_count": 65,
   "metadata": {},
   "outputs": [
    {
     "name": "stdout",
     "output_type": "stream",
     "text": [
      "Tensor Flow Version: 1.11.0\n"
     ]
    }
   ],
   "source": [
    "import tensorflow as tf\n",
    "print(\"Tensor Flow Version: {}\".format(tf.__version__))"
   ]
  },
  {
   "cell_type": "markdown",
   "metadata": {},
   "source": [
    "## Reading json files"
   ]
  },
  {
   "cell_type": "code",
   "execution_count": 66,
   "metadata": {},
   "outputs": [],
   "source": [
    "import json\n",
    "import csv\n",
    "import pandas as pd\n",
    "\n",
    "outfile = open(\"review_stars.tsv\", 'w')\n",
    "sfile = csv.writer(outfile, delimiter =\"\\t\", quoting=csv.QUOTE_MINIMAL)\n",
    "sfile.writerow(['business_id','stars', 'text'])\n",
    "with open(r'yelp_academic_dataset_review.json',encoding=\"utf-8\") as f:\n",
    "  for line in f:\n",
    "     row = json.loads(line)\n",
    "# some special char must be encoded in 'utf-8'\n",
    "     sfile.writerow([row['business_id'], row['stars'], (row['text']).encode('utf-8')])\n",
    "outfile.close()\n",
    "reviews_df= pd.read_csv('review_stars.tsv', delimiter =\"\\t\", encoding=\"utf-8\")\n"
   ]
  },
  {
   "cell_type": "code",
   "execution_count": 67,
   "metadata": {},
   "outputs": [],
   "source": [
    "import json\n",
    "import csv\n",
    "import pandas as pd\n",
    "\n",
    "outfile = open(\"business_reviews.tsv\", 'w')\n",
    "sfile = csv.writer(outfile, delimiter =\"\\t\", quoting=csv.QUOTE_MINIMAL)\n",
    "sfile.writerow(['business_id','stars', 'review_count'])\n",
    "with open(r'yelp_academic_dataset_business.json',encoding =\"utf-8\") as f:\n",
    "  for line in f:\n",
    "     row = json.loads(line)\n",
    "# some special char must be encoded in 'utf-8'\n",
    "     sfile.writerow([row['business_id'], row['stars'], (row['review_count'])])\n",
    "outfile.close()\n",
    "business_df= pd.read_csv('business_reviews.tsv', delimiter =\"\\t\", encoding=\"utf-8\")"
   ]
  },
  {
   "cell_type": "code",
   "execution_count": 68,
   "metadata": {
    "scrolled": true
   },
   "outputs": [
    {
     "data": {
      "text/plain": [
       "business_id     0\n",
       "stars           0\n",
       "review_count    0\n",
       "dtype: int64"
      ]
     },
     "execution_count": 68,
     "metadata": {},
     "output_type": "execute_result"
    }
   ],
   "source": [
    "reviews_df.isnull().sum()\n",
    "business_df.isnull().sum()\n"
   ]
  },
  {
   "cell_type": "code",
   "execution_count": 69,
   "metadata": {},
   "outputs": [],
   "source": [
    "review_df_agg=reviews_df.groupby('business_id')['text'].sum()"
   ]
  },
  {
   "cell_type": "code",
   "execution_count": 70,
   "metadata": {},
   "outputs": [],
   "source": [
    "review_df_for_sklearn=pd.DataFrame({'business_id':review_df_agg.index,'all_reviews':review_df_agg.values})"
   ]
  },
  {
   "cell_type": "code",
   "execution_count": 71,
   "metadata": {},
   "outputs": [],
   "source": [
    "review_business=pd.merge(review_df_for_sklearn,business_df,on='business_id',how='left')"
   ]
  },
  {
   "cell_type": "code",
   "execution_count": 72,
   "metadata": {},
   "outputs": [
    {
     "data": {
      "text/plain": [
       "(188593, 4)"
      ]
     },
     "execution_count": 72,
     "metadata": {},
     "output_type": "execute_result"
    }
   ],
   "source": [
    "review_business.shape"
   ]
  },
  {
   "cell_type": "code",
   "execution_count": 73,
   "metadata": {},
   "outputs": [
    {
     "name": "stdout",
     "output_type": "stream",
     "text": [
      "(18859, 4)\n"
     ]
    }
   ],
   "source": [
    "review_business_sample=review_business.sample(frac=.10)\n",
    "print(review_business_sample.shape)"
   ]
  },
  {
   "cell_type": "code",
   "execution_count": 74,
   "metadata": {},
   "outputs": [
    {
     "data": {
      "text/plain": [
       "(18859,)"
      ]
     },
     "execution_count": 74,
     "metadata": {},
     "output_type": "execute_result"
    }
   ],
   "source": [
    "#normalizing review_count\n",
    "\n",
    "from scipy.stats import zscore\n",
    "\n",
    "review_count_normalized=zscore(review_business_sample['review_count'])\n",
    "review_count_normalized.shape #normalized review_count"
   ]
  },
  {
   "cell_type": "markdown",
   "metadata": {},
   "source": [
    "## TF-IDF"
   ]
  },
  {
   "cell_type": "code",
   "execution_count": 75,
   "metadata": {},
   "outputs": [],
   "source": [
    "import sklearn.feature_extraction.text as sk_text\n",
    "vectorizer=sk_text.TfidfVectorizer(stop_words='english',max_features=1000,min_df=2)\n",
    "matrix=vectorizer.fit_transform(review_business_sample['all_reviews'])\n"
   ]
  },
  {
   "cell_type": "code",
   "execution_count": 76,
   "metadata": {},
   "outputs": [
    {
     "name": "stdout",
     "output_type": "stream",
     "text": [
      "<class 'scipy.sparse.csr.csr_matrix'>\n",
      "[[0.         0.         0.         ... 0.         0.         0.        ]\n",
      " [0.         0.         0.02241741 ... 0.         0.         0.        ]\n",
      " [0.         0.         0.         ... 0.         0.         0.        ]\n",
      " ...\n",
      " [0.         0.         0.         ... 0.         0.         0.        ]\n",
      " [0.         0.07193545 0.         ... 0.         0.         0.        ]\n",
      " [0.         0.         0.         ... 0.         0.         0.        ]]\n"
     ]
    }
   ],
   "source": [
    "print(type(matrix))\n",
    "print(matrix.toarray())"
   ]
  },
  {
   "cell_type": "code",
   "execution_count": 77,
   "metadata": {},
   "outputs": [],
   "source": [
    "tfif_data=matrix.toarray()"
   ]
  },
  {
   "cell_type": "code",
   "execution_count": 78,
   "metadata": {},
   "outputs": [
    {
     "data": {
      "text/plain": [
       "(18859, 1000)"
      ]
     },
     "execution_count": 78,
     "metadata": {},
     "output_type": "execute_result"
    }
   ],
   "source": [
    "tfif_data.shape\n"
   ]
  },
  {
   "cell_type": "code",
   "execution_count": 79,
   "metadata": {},
   "outputs": [
    {
     "data": {
      "text/plain": [
       "array([[ 0.        ,  0.        ,  0.        , ...,  0.        ,\n",
       "         0.        , -0.24019547],\n",
       "       [ 0.        ,  0.        ,  0.02241741, ...,  0.        ,\n",
       "         0.        , -0.20975322],\n",
       "       [ 0.        ,  0.        ,  0.        , ...,  0.        ,\n",
       "         0.        , -0.2604903 ],\n",
       "       ...,\n",
       "       [ 0.        ,  0.        ,  0.        , ...,  0.        ,\n",
       "         0.        , -0.28078512],\n",
       "       [ 0.        ,  0.07193545,  0.        , ...,  0.        ,\n",
       "         0.        , -0.21990064],\n",
       "       [ 0.        ,  0.        ,  0.        , ...,  0.        ,\n",
       "         0.        , -0.29093254]])"
      ]
     },
     "execution_count": 79,
     "metadata": {},
     "output_type": "execute_result"
    }
   ],
   "source": [
    "import numpy as np\n",
    "concat_matrix=np.column_stack((tfif_data,review_count_normalized))\n",
    "concat_matrix"
   ]
  },
  {
   "cell_type": "markdown",
   "metadata": {},
   "source": [
    "# TensorFlow Regression"
   ]
  },
  {
   "cell_type": "code",
   "execution_count": 80,
   "metadata": {},
   "outputs": [],
   "source": [
    "import pandas as pd\n",
    "import io\n",
    "import requests\n",
    "import numpy as np\n",
    "import os\n",
    "from sklearn.model_selection import train_test_split\n",
    "from sklearn import preprocessing\n",
    "from sklearn.model_selection import train_test_split\n",
    "from sklearn import metrics\n",
    "from keras.models import Sequential\n",
    "from keras.layers.core import Dense, Activation\n",
    "from keras.callbacks import EarlyStopping\n",
    "from keras.callbacks import ModelCheckpoint\n",
    "\n",
    "x=concat_matrix\n",
    "\n",
    "le = preprocessing.LabelEncoder()\n",
    "le.fit(review_business_sample['stars'])\n",
    "\n",
    "list(le.classes_)\n",
    "\n",
    "y = le.transform(review_business_sample['stars'])\n",
    "\n",
    "# Split into train/test\n",
    "x_train, x_test, y_train, y_test = train_test_split(x, y, test_size=0.25, random_state=42)"
   ]
  },
  {
   "cell_type": "code",
   "execution_count": null,
   "metadata": {},
   "outputs": [],
   "source": [
    "from keras.models import Sequential\n",
    "from keras.layers.core import Dense, Activation\n",
    "import pandas as pd\n",
    "import io\n",
    "import requests\n",
    "import numpy as np\n",
    "from sklearn import metrics\n",
    "\n",
    "model = Sequential()\n",
    "\n",
    "model.add(Dense(25, input_dim=x.shape[1], activation='relu')) # Hidden 1     #  why input_dim=x.shape[1]?  \n",
    "model.add(Dense(10, activation='relu')) # Hidden 2\n",
    "model.add(Dense(1)) # Output\n",
    "\n",
    "model.compile(loss='mean_squared_error', optimizer='adam')\n",
    "\n",
    "model.fit(x,y,verbose=2,epochs=100)    # Verbosity mode. 0 = silent, 1 = progress bar, 2 = one line per epoch.\n",
    "\n",
    "pred = model.predict(x)\n",
    "print(\"Shape: {}\".format(pred.shape))\n",
    "print(pred)\n",
    "\n",
    "# Measure RMSE error.  RMSE is common for regression.\n",
    "score = np.sqrt(metrics.mean_squared_error(pred,y))\n",
    "print(\"Final score (RMSE): {}\".format(score))"
   ]
  },
  {
   "cell_type": "code",
   "execution_count": 196,
   "metadata": {},
   "outputs": [
    {
     "name": "stdout",
     "output_type": "stream",
     "text": [
      "Epoch 1/100\n",
      " - 7s - loss: 5.6814\n",
      "Epoch 2/100\n",
      " - 2s - loss: 1.1893\n",
      "Epoch 3/100\n",
      " - 2s - loss: 1.0341\n",
      "Epoch 4/100\n",
      " - 3s - loss: 0.9214\n",
      "Epoch 5/100\n",
      " - 3s - loss: 0.8462\n",
      "Epoch 6/100\n",
      " - 3s - loss: 0.7972\n",
      "Epoch 7/100\n",
      " - 2s - loss: 0.7547\n",
      "Epoch 8/100\n",
      " - 2s - loss: 0.7171\n",
      "Epoch 9/100\n",
      " - 2s - loss: 0.6819\n",
      "Epoch 10/100\n",
      " - 2s - loss: 0.6449\n",
      "Epoch 11/100\n",
      " - 3s - loss: 0.6169\n",
      "Epoch 12/100\n",
      " - 2s - loss: 0.5867\n",
      "Epoch 13/100\n",
      " - 2s - loss: 0.5544\n",
      "Epoch 14/100\n",
      " - 2s - loss: 0.5290\n",
      "Epoch 15/100\n",
      " - 3s - loss: 0.5036\n",
      "Epoch 16/100\n",
      " - 3s - loss: 0.4824\n",
      "Epoch 17/100\n",
      " - 2s - loss: 0.4613\n",
      "Epoch 18/100\n",
      " - 2s - loss: 0.4418\n",
      "Epoch 19/100\n",
      " - 2s - loss: 0.4256\n",
      "Epoch 20/100\n",
      " - 2s - loss: 0.4094\n",
      "Epoch 21/100\n",
      " - 2s - loss: 0.3973\n",
      "Epoch 22/100\n",
      " - 2s - loss: 0.3828\n",
      "Epoch 23/100\n",
      " - 2s - loss: 0.3720\n",
      "Epoch 24/100\n",
      " - 2s - loss: 0.3590\n",
      "Epoch 25/100\n",
      " - 2s - loss: 0.3512\n",
      "Epoch 26/100\n",
      " - 2s - loss: 0.3445\n",
      "Epoch 27/100\n",
      " - 3s - loss: 0.3333\n",
      "Epoch 28/100\n",
      " - 3s - loss: 0.3278\n",
      "Epoch 29/100\n",
      " - 3s - loss: 0.3206\n",
      "Epoch 30/100\n",
      " - 2s - loss: 0.3099\n",
      "Epoch 31/100\n",
      " - 2s - loss: 0.3059\n",
      "Epoch 32/100\n",
      " - 2s - loss: 0.2981\n",
      "Epoch 33/100\n",
      " - 2s - loss: 0.2910\n",
      "Epoch 34/100\n",
      " - 2s - loss: 0.2879\n",
      "Epoch 35/100\n",
      " - 2s - loss: 0.2803\n",
      "Epoch 36/100\n",
      " - 2s - loss: 0.2766\n",
      "Epoch 37/100\n",
      " - 2s - loss: 0.2691\n",
      "Epoch 38/100\n",
      " - 2s - loss: 0.2663\n",
      "Epoch 39/100\n",
      " - 3s - loss: 0.2610\n",
      "Epoch 40/100\n",
      " - 3s - loss: 0.2556\n",
      "Epoch 41/100\n",
      " - 3s - loss: 0.2525\n",
      "Epoch 42/100\n",
      " - 2s - loss: 0.2484\n",
      "Epoch 43/100\n",
      " - 2s - loss: 0.2406\n",
      "Epoch 44/100\n",
      " - 2s - loss: 0.2359\n",
      "Epoch 45/100\n",
      " - 2s - loss: 0.2323\n",
      "Epoch 46/100\n",
      " - 2s - loss: 0.2279\n",
      "Epoch 47/100\n",
      " - 2s - loss: 0.2252\n",
      "Epoch 48/100\n",
      " - 2s - loss: 0.2216\n",
      "Epoch 49/100\n",
      " - 2s - loss: 0.2158\n",
      "Epoch 50/100\n",
      " - 2s - loss: 0.2135\n",
      "Epoch 51/100\n",
      " - 2s - loss: 0.2103\n",
      "Epoch 52/100\n",
      " - 2s - loss: 0.2089\n",
      "Epoch 53/100\n",
      " - 2s - loss: 0.2060\n",
      "Epoch 54/100\n",
      " - 2s - loss: 0.2001\n",
      "Epoch 55/100\n",
      " - 3s - loss: 0.1995\n",
      "Epoch 56/100\n",
      " - 3s - loss: 0.1955\n",
      "Epoch 57/100\n",
      " - 3s - loss: 0.1934\n",
      "Epoch 58/100\n",
      " - 2s - loss: 0.1910\n",
      "Epoch 59/100\n",
      " - 2s - loss: 0.1887\n",
      "Epoch 60/100\n",
      " - 2s - loss: 0.1862\n",
      "Epoch 61/100\n",
      " - 2s - loss: 0.1831\n",
      "Epoch 62/100\n",
      " - 2s - loss: 0.1810\n",
      "Epoch 63/100\n",
      " - 2s - loss: 0.1784\n",
      "Epoch 64/100\n",
      " - 2s - loss: 0.1772\n",
      "Epoch 65/100\n",
      " - 2s - loss: 0.1735\n",
      "Epoch 66/100\n",
      " - 2s - loss: 0.1731\n",
      "Epoch 67/100\n",
      " - 2s - loss: 0.1701\n",
      "Epoch 68/100\n",
      " - 2s - loss: 0.1664\n",
      "Epoch 69/100\n",
      " - 2s - loss: 0.1639\n",
      "Epoch 70/100\n",
      " - 2s - loss: 0.1621\n",
      "Epoch 71/100\n",
      " - 2s - loss: 0.1606\n",
      "Epoch 72/100\n",
      " - 2s - loss: 0.1595\n",
      "Epoch 73/100\n",
      " - 2s - loss: 0.1571\n",
      "Epoch 74/100\n",
      " - 3s - loss: 0.1555\n",
      "Epoch 75/100\n",
      " - 3s - loss: 0.1547\n",
      "Epoch 76/100\n",
      " - 2s - loss: 0.1495\n",
      "Epoch 77/100\n",
      " - 3s - loss: 0.1511\n",
      "Epoch 78/100\n",
      " - 2s - loss: 0.1492\n",
      "Epoch 79/100\n",
      " - 2s - loss: 0.1450\n",
      "Epoch 80/100\n",
      " - 2s - loss: 0.1484\n",
      "Epoch 81/100\n",
      " - 3s - loss: 0.1442\n",
      "Epoch 82/100\n",
      " - 3s - loss: 0.1406\n",
      "Epoch 83/100\n",
      " - 3s - loss: 0.1405\n",
      "Epoch 84/100\n",
      " - 2s - loss: 0.1400\n",
      "Epoch 85/100\n",
      " - 2s - loss: 0.1378\n",
      "Epoch 86/100\n",
      " - 2s - loss: 0.1401\n",
      "Epoch 87/100\n",
      " - 3s - loss: 0.1372\n",
      "Epoch 88/100\n",
      " - 3s - loss: 0.1328\n",
      "Epoch 89/100\n",
      " - 2s - loss: 0.1316\n",
      "Epoch 90/100\n",
      " - 2s - loss: 0.1312\n",
      "Epoch 91/100\n",
      " - 3s - loss: 0.1307\n",
      "Epoch 92/100\n",
      " - 3s - loss: 0.1307\n",
      "Epoch 93/100\n",
      " - 3s - loss: 0.1293\n",
      "Epoch 94/100\n",
      " - 2s - loss: 0.1271\n",
      "Epoch 95/100\n",
      " - 3s - loss: 0.1252\n",
      "Epoch 96/100\n",
      " - 3s - loss: 0.1251\n",
      "Epoch 97/100\n",
      " - 2s - loss: 0.1244\n",
      "Epoch 98/100\n",
      " - 3s - loss: 0.1242\n",
      "Epoch 99/100\n",
      " - 2s - loss: 0.1221\n",
      "Epoch 100/100\n",
      " - 3s - loss: 0.1218\n",
      "Shape: (18859, 1)\n",
      "[[7.50351  ]\n",
      " [2.112076 ]\n",
      " [7.836698 ]\n",
      " ...\n",
      " [7.7955613]\n",
      " [2.8228478]\n",
      " [3.717904 ]]\n",
      "Final score (RMSE): 0.32881644323555304\n"
     ]
    }
   ],
   "source": [
    "from keras.models import Sequential\n",
    "from keras.layers.core import Dense, Activation\n",
    "import pandas as pd\n",
    "import io\n",
    "import requests\n",
    "import numpy as np\n",
    "from sklearn import metrics\n",
    "\n",
    "model = Sequential()\n",
    "\n",
    "model.add(Dense(25, input_dim=x.shape[1], activation='relu')) # Hidden 1     #  why input_dim=x.shape[1]?  \n",
    "model.add(Dense(10, activation='relu')) # Hidden 2\n",
    "model.add(Dense(1)) # Output\n",
    "\n",
    "model.compile(loss='mean_squared_error', optimizer='adam')\n",
    "\n",
    "model.fit(x,y,verbose=2,epochs=100)    # Verbosity mode. 0 = silent, 1 = progress bar, 2 = one line per epoch.\n",
    "\n",
    "pred = model.predict(x)\n",
    "print(\"Shape: {}\".format(pred.shape))\n",
    "print(pred)\n",
    "\n",
    "# Measure RMSE error.  RMSE is common for regression.\n",
    "score = np.sqrt(metrics.mean_squared_error(pred,y))\n",
    "print(\"Final score (RMSE): {}\".format(score))"
   ]
  },
  {
   "cell_type": "code",
   "execution_count": 87,
   "metadata": {},
   "outputs": [
    {
     "name": "stdout",
     "output_type": "stream",
     "text": [
      "0\n",
      "Train on 14144 samples, validate on 4715 samples\n",
      "Epoch 1/100\n",
      " - 4s - loss: 2.3478 - val_loss: 1.1540\n",
      "Epoch 2/100\n",
      " - 2s - loss: 1.0210 - val_loss: 0.9898\n",
      "Epoch 3/100\n",
      " - 2s - loss: 0.8735 - val_loss: 1.1188\n",
      "Epoch 4/100\n",
      " - 2s - loss: 0.7809 - val_loss: 0.9863\n",
      "Epoch 5/100\n",
      " - 2s - loss: 0.6807 - val_loss: 0.9483\n",
      "Epoch 6/100\n",
      " - 2s - loss: 0.5863 - val_loss: 1.0578\n",
      "Epoch 7/100\n",
      " - 2s - loss: 0.4869 - val_loss: 1.0111\n",
      "Epoch 8/100\n",
      " - 2s - loss: 0.4090 - val_loss: 1.0511\n",
      "Epoch 9/100\n",
      " - 2s - loss: 0.3477 - val_loss: 1.0459\n",
      "Epoch 10/100\n",
      " - 2s - loss: 0.2911 - val_loss: 1.0675\n",
      "Epoch 00010: early stopping\n",
      "1\n",
      "Train on 14144 samples, validate on 4715 samples\n",
      "Epoch 1/100\n",
      " - 4s - loss: 2.2665 - val_loss: 1.1039\n",
      "Epoch 2/100\n",
      " - 2s - loss: 1.0430 - val_loss: 1.1558\n",
      "Epoch 3/100\n",
      " - 2s - loss: 0.8938 - val_loss: 0.9514\n",
      "Epoch 4/100\n",
      " - 2s - loss: 0.7900 - val_loss: 1.0254\n",
      "Epoch 5/100\n",
      " - 2s - loss: 0.6963 - val_loss: 0.9518\n",
      "Epoch 6/100\n",
      " - 2s - loss: 0.5975 - val_loss: 1.1260\n",
      "Epoch 7/100\n",
      " - 2s - loss: 0.5098 - val_loss: 0.9838\n",
      "Epoch 8/100\n",
      " - 2s - loss: 0.4273 - val_loss: 1.0717\n",
      "Epoch 00008: early stopping\n",
      "2\n",
      "Train on 14144 samples, validate on 4715 samples\n",
      "Epoch 1/100\n",
      " - 4s - loss: 2.1504 - val_loss: 1.2513\n",
      "Epoch 2/100\n",
      " - 2s - loss: 1.0389 - val_loss: 1.1523\n",
      "Epoch 3/100\n",
      " - 2s - loss: 0.8879 - val_loss: 1.0886\n",
      "Epoch 4/100\n",
      " - 2s - loss: 0.7851 - val_loss: 0.9410\n",
      "Epoch 5/100\n",
      " - 2s - loss: 0.6852 - val_loss: 0.9559\n",
      "Epoch 6/100\n",
      " - 2s - loss: 0.5846 - val_loss: 0.9488\n",
      "Epoch 7/100\n",
      " - 2s - loss: 0.4944 - val_loss: 1.0080\n",
      "Epoch 8/100\n",
      " - 2s - loss: 0.4147 - val_loss: 1.0805\n",
      "Epoch 9/100\n",
      " - 2s - loss: 0.3431 - val_loss: 1.0451\n",
      "Epoch 00009: early stopping\n",
      "3\n",
      "Train on 14144 samples, validate on 4715 samples\n",
      "Epoch 1/100\n",
      " - 4s - loss: 2.4563 - val_loss: 1.3566\n",
      "Epoch 2/100\n",
      " - 2s - loss: 1.0525 - val_loss: 1.1692\n",
      "Epoch 3/100\n",
      " - 2s - loss: 0.8957 - val_loss: 0.9449\n",
      "Epoch 4/100\n",
      " - 2s - loss: 0.7812 - val_loss: 0.9230\n",
      "Epoch 5/100\n",
      " - 2s - loss: 0.6859 - val_loss: 0.9388\n",
      "Epoch 6/100\n",
      " - 2s - loss: 0.5976 - val_loss: 0.9305\n",
      "Epoch 7/100\n",
      " - 2s - loss: 0.5121 - val_loss: 1.0130\n",
      "Epoch 8/100\n",
      " - 1s - loss: 0.4401 - val_loss: 1.1977\n",
      "Epoch 9/100\n",
      " - 1s - loss: 0.3689 - val_loss: 1.0401\n",
      "Epoch 00009: early stopping\n",
      "4\n",
      "Train on 14144 samples, validate on 4715 samples\n",
      "Epoch 1/100\n",
      " - 4s - loss: 2.2745 - val_loss: 1.1360\n",
      "Epoch 2/100\n",
      " - 2s - loss: 1.0288 - val_loss: 0.9987\n",
      "Epoch 3/100\n",
      " - 2s - loss: 0.8874 - val_loss: 1.0021\n",
      "Epoch 4/100\n",
      " - 2s - loss: 0.7681 - val_loss: 1.0108\n",
      "Epoch 5/100\n",
      " - 1s - loss: 0.6755 - val_loss: 0.9747\n",
      "Epoch 6/100\n",
      " - 2s - loss: 0.5858 - val_loss: 1.0651\n",
      "Epoch 7/100\n",
      " - 2s - loss: 0.4900 - val_loss: 1.0094\n",
      "Epoch 8/100\n",
      " - 2s - loss: 0.4206 - val_loss: 1.0094\n",
      "Epoch 9/100\n",
      " - 2s - loss: 0.3536 - val_loss: 1.1749\n",
      "Epoch 10/100\n",
      " - 2s - loss: 0.3021 - val_loss: 1.0872\n",
      "Epoch 00010: early stopping\n",
      "Training finished...Loading the best model\n",
      "\n",
      "Final score (MSE): 0.9230035255227403\n",
      "Final score (RMSE): 0.9607307247729409\n"
     ]
    }
   ],
   "source": [
    "# Define ModelCheckpoint outside the loop\n",
    "checkpointer = ModelCheckpoint(filepath=\"/Users/avinashreddy/Desktop/215/best_weights.hdf5\", verbose=0, save_best_only=True) # save best model\n",
    "\n",
    "for i in range(5):\n",
    "    print(i)\n",
    "\n",
    "    # Build network\n",
    "    model = Sequential()\n",
    "    model.add(Dense(100, input_dim=x.shape[1], activation='relu'))\n",
    "    model.add(Dense(50, activation='relu'))\n",
    "    model.add(Dense(50, activation='relu'))\n",
    "    model.add(Dense(1)) # Output\n",
    "\n",
    "    model.compile(loss='mean_squared_error', optimizer='rmsprop')\n",
    "\n",
    "    monitor = EarlyStopping(monitor='val_loss', min_delta=1e-3, patience=5, verbose=1, mode='auto')\n",
    "\n",
    "    model.fit(x_train,y_train,validation_data=(x_test,y_test),callbacks=[monitor,checkpointer],verbose=2,epochs=100)\n",
    "\n",
    "\n",
    "print('Training finished...Loading the best model')  \n",
    "print()\n",
    "model.load_weights(\"/Users/avinashreddy/Desktop/215/best_weights.hdf5\",) # load weights from best model\n",
    "\n",
    "# Predict\n",
    "pred = model.predict(x_test)\n",
    "\n",
    "# Measure MSE error.  \n",
    "score = metrics.mean_squared_error(pred,y_test)\n",
    "print(\"Final score (MSE): {}\".format(score))\n",
    "\n",
    "# Measure RMSE error.  RMSE is common for regression.\n",
    "score = np.sqrt(metrics.mean_squared_error(pred,y_test))\n",
    "print(\"Final score (RMSE): {}\".format(score))\n"
   ]
  },
  {
   "cell_type": "code",
   "execution_count": 89,
   "metadata": {
    "scrolled": true
   },
   "outputs": [
    {
     "name": "stdout",
     "output_type": "stream",
     "text": [
      "1. True_star: 3, predicted Star: [1.3091886]\n",
      "2. True_star: 2, predicted Star: [3.2305536]\n",
      "3. True_star: 7, predicted Star: [5.931468]\n",
      "4. True_star: 6, predicted Star: [5.6632123]\n",
      "5. True_star: 4, predicted Star: [4.7986054]\n",
      "6. True_star: 7, predicted Star: [6.861172]\n",
      "7. True_star: 5, predicted Star: [6.817897]\n",
      "8. True_star: 6, predicted Star: [6.569521]\n",
      "9. True_star: 0, predicted Star: [0.83485454]\n",
      "10. True_star: 4, predicted Star: [3.639837]\n"
     ]
    }
   ],
   "source": [
    "# Sample predictions\n",
    "for i in range(10):\n",
    "    print(\"{}. True_star: {}, predicted Star: {}\".format(i+1,y_test[i],pred[i]))"
   ]
  },
  {
   "cell_type": "markdown",
   "metadata": {},
   "source": [
    "# Classification"
   ]
  },
  {
   "cell_type": "code",
   "execution_count": 90,
   "metadata": {},
   "outputs": [
    {
     "name": "stdout",
     "output_type": "stream",
     "text": [
      "[8 2 8 ... 8 3 4]\n"
     ]
    }
   ],
   "source": [
    "import pandas as pd\n",
    "import io , os\n",
    "import requests\n",
    "import numpy as np\n",
    "from sklearn import metrics\n",
    "from keras.models import Sequential\n",
    "from keras.layers.core import Dense, Activation\n",
    "from keras.callbacks import EarlyStopping\n",
    "from sklearn import preprocessing\n",
    "\n",
    "le1 = preprocessing.LabelEncoder()\n",
    "le1.fit(review_business_sample['stars'])\n",
    "\n",
    "list(le1.classes_)\n",
    "y1=le1.transform(review_business_sample['stars'])\n",
    "\n",
    "print(y1)"
   ]
  },
  {
   "cell_type": "code",
   "execution_count": 91,
   "metadata": {
    "scrolled": false
   },
   "outputs": [
    {
     "data": {
      "text/html": [
       "<div>\n",
       "<style scoped>\n",
       "    .dataframe tbody tr th:only-of-type {\n",
       "        vertical-align: middle;\n",
       "    }\n",
       "\n",
       "    .dataframe tbody tr th {\n",
       "        vertical-align: top;\n",
       "    }\n",
       "\n",
       "    .dataframe thead th {\n",
       "        text-align: right;\n",
       "    }\n",
       "</style>\n",
       "<table border=\"1\" class=\"dataframe\">\n",
       "  <thead>\n",
       "    <tr style=\"text-align: right;\">\n",
       "      <th></th>\n",
       "      <th>business_id</th>\n",
       "      <th>all_reviews</th>\n",
       "      <th>stars</th>\n",
       "      <th>review_count</th>\n",
       "    </tr>\n",
       "  </thead>\n",
       "  <tbody>\n",
       "    <tr>\n",
       "      <th>2329</th>\n",
       "      <td>-mENr6YjIknd1m8KUIQzoA</td>\n",
       "      <td>b'My first time at this salon. Got a haircut d...</td>\n",
       "      <td>5.0</td>\n",
       "      <td>8</td>\n",
       "    </tr>\n",
       "    <tr>\n",
       "      <th>131794</th>\n",
       "      <td>gh9MpupMOUkhI30TaE8x4A</td>\n",
       "      <td>b'First time to the place. The door guys were ...</td>\n",
       "      <td>2.0</td>\n",
       "      <td>11</td>\n",
       "    </tr>\n",
       "    <tr>\n",
       "      <th>130301</th>\n",
       "      <td>g9sZ0I2Dp1hyC2EWj7Drgw</td>\n",
       "      <td>b\"I have my hair done by Gina at Love Your Hai...</td>\n",
       "      <td>5.0</td>\n",
       "      <td>6</td>\n",
       "    </tr>\n",
       "    <tr>\n",
       "      <th>182557</th>\n",
       "      <td>xxGB4cW9N5WrGKc5QYgYLw</td>\n",
       "      <td>b'We stopped in last night for dog food sugges...</td>\n",
       "      <td>4.0</td>\n",
       "      <td>18</td>\n",
       "    </tr>\n",
       "    <tr>\n",
       "      <th>181178</th>\n",
       "      <td>xTmXRGLBS8TBHCL4dZhNew</td>\n",
       "      <td>b'The driver was very friendly and polite. He ...</td>\n",
       "      <td>3.5</td>\n",
       "      <td>3</td>\n",
       "    </tr>\n",
       "  </tbody>\n",
       "</table>\n",
       "</div>"
      ],
      "text/plain": [
       "                   business_id  \\\n",
       "2329    -mENr6YjIknd1m8KUIQzoA   \n",
       "131794  gh9MpupMOUkhI30TaE8x4A   \n",
       "130301  g9sZ0I2Dp1hyC2EWj7Drgw   \n",
       "182557  xxGB4cW9N5WrGKc5QYgYLw   \n",
       "181178  xTmXRGLBS8TBHCL4dZhNew   \n",
       "\n",
       "                                              all_reviews  stars  review_count  \n",
       "2329    b'My first time at this salon. Got a haircut d...    5.0             8  \n",
       "131794  b'First time to the place. The door guys were ...    2.0            11  \n",
       "130301  b\"I have my hair done by Gina at Love Your Hai...    5.0             6  \n",
       "182557  b'We stopped in last night for dog food sugges...    4.0            18  \n",
       "181178  b'The driver was very friendly and polite. He ...    3.5             3  "
      ]
     },
     "execution_count": 91,
     "metadata": {},
     "output_type": "execute_result"
    }
   ],
   "source": [
    "review_business_sample.head(5)"
   ]
  },
  {
   "cell_type": "code",
   "execution_count": 92,
   "metadata": {},
   "outputs": [
    {
     "name": "stdout",
     "output_type": "stream",
     "text": [
      "Index(['business_id', 'all_reviews', 'review_count', 'stars-1.0', 'stars-1.5',\n",
      "       'stars-2.0', 'stars-2.5', 'stars-3.0', 'stars-3.5', 'stars-4.0',\n",
      "       'stars-4.5', 'stars-5.0'],\n",
      "      dtype='object')\n"
     ]
    }
   ],
   "source": [
    "y1= encode_text_dummy(review_business_sample,\"stars\")   #one-hot coding\n",
    "y1= review_business_sample\n",
    "print(y1.columns)"
   ]
  },
  {
   "cell_type": "code",
   "execution_count": 93,
   "metadata": {},
   "outputs": [],
   "source": [
    "y1=y1[['stars-1.0', 'stars-1.5','stars-2.0', 'stars-2.5', 'stars-3.0', 'stars-3.5', 'stars-4.0','stars-4.5', 'stars-5.0']]"
   ]
  },
  {
   "cell_type": "code",
   "execution_count": 94,
   "metadata": {},
   "outputs": [
    {
     "data": {
      "text/plain": [
       "numpy.ndarray"
      ]
     },
     "execution_count": 94,
     "metadata": {},
     "output_type": "execute_result"
    }
   ],
   "source": [
    "y1=y1.values\n",
    "type(y1)"
   ]
  },
  {
   "cell_type": "code",
   "execution_count": 95,
   "metadata": {},
   "outputs": [
    {
     "data": {
      "text/plain": [
       "array([[0, 0, 0, ..., 0, 0, 1],\n",
       "       [0, 0, 1, ..., 0, 0, 0],\n",
       "       [0, 0, 0, ..., 0, 0, 1],\n",
       "       ...,\n",
       "       [0, 0, 0, ..., 0, 0, 1],\n",
       "       [0, 0, 0, ..., 0, 0, 0],\n",
       "       [0, 0, 0, ..., 0, 0, 0]], dtype=uint8)"
      ]
     },
     "execution_count": 95,
     "metadata": {},
     "output_type": "execute_result"
    }
   ],
   "source": [
    "y1"
   ]
  },
  {
   "cell_type": "code",
   "execution_count": 102,
   "metadata": {
    "scrolled": false
   },
   "outputs": [
    {
     "name": "stdout",
     "output_type": "stream",
     "text": [
      "0\n",
      "Train on 14144 samples, validate on 4715 samples\n",
      "Epoch 1/100\n",
      " - 6s - loss: 1.7064 - val_loss: 1.3601\n",
      "Epoch 2/100\n",
      " - 2s - loss: 1.2605 - val_loss: 1.2246\n",
      "Epoch 3/100\n",
      " - 2s - loss: 1.1787 - val_loss: 1.2129\n",
      "Epoch 4/100\n",
      " - 2s - loss: 1.1443 - val_loss: 1.1951\n",
      "Epoch 5/100\n",
      " - 2s - loss: 1.1192 - val_loss: 1.1931\n",
      "Epoch 6/100\n",
      " - 2s - loss: 1.1008 - val_loss: 1.2046\n",
      "Epoch 7/100\n",
      " - 2s - loss: 1.0827 - val_loss: 1.2017\n",
      "Epoch 8/100\n",
      " - 2s - loss: 1.0670 - val_loss: 1.2122\n",
      "Epoch 9/100\n",
      " - 2s - loss: 1.0539 - val_loss: 1.2054\n",
      "Epoch 10/100\n",
      " - 2s - loss: 1.0373 - val_loss: 1.2159\n",
      "Epoch 00010: early stopping\n",
      "1\n",
      "Train on 14144 samples, validate on 4715 samples\n",
      "Epoch 1/100\n",
      " - 6s - loss: 1.7656 - val_loss: 1.4011\n",
      "Epoch 2/100\n",
      " - 2s - loss: 1.2807 - val_loss: 1.2357\n",
      "Epoch 3/100\n",
      " - 2s - loss: 1.1899 - val_loss: 1.2164\n",
      "Epoch 4/100\n",
      " - 2s - loss: 1.1563 - val_loss: 1.2056\n",
      "Epoch 5/100\n",
      " - 2s - loss: 1.1348 - val_loss: 1.2031\n",
      "Epoch 6/100\n",
      " - 2s - loss: 1.1153 - val_loss: 1.2070\n",
      "Epoch 7/100\n",
      " - 2s - loss: 1.1000 - val_loss: 1.2138\n",
      "Epoch 8/100\n",
      " - 2s - loss: 1.0840 - val_loss: 1.2143\n",
      "Epoch 9/100\n",
      " - 2s - loss: 1.0702 - val_loss: 1.2185\n",
      "Epoch 10/100\n",
      " - 2s - loss: 1.0535 - val_loss: 1.2241\n",
      "Epoch 00010: early stopping\n",
      "2\n",
      "Train on 14144 samples, validate on 4715 samples\n",
      "Epoch 1/100\n",
      " - 6s - loss: 1.7690 - val_loss: 1.3656\n",
      "Epoch 2/100\n",
      " - 2s - loss: 1.2776 - val_loss: 1.2232\n",
      "Epoch 3/100\n",
      " - 2s - loss: 1.1691 - val_loss: 1.2045\n",
      "Epoch 4/100\n",
      " - 2s - loss: 1.1325 - val_loss: 1.1953\n",
      "Epoch 5/100\n",
      " - 2s - loss: 1.1077 - val_loss: 1.2018\n",
      "Epoch 6/100\n",
      " - 2s - loss: 1.0925 - val_loss: 1.2008\n",
      "Epoch 7/100\n",
      " - 2s - loss: 1.0746 - val_loss: 1.2087\n",
      "Epoch 8/100\n",
      " - 2s - loss: 1.0608 - val_loss: 1.2190\n",
      "Epoch 9/100\n",
      " - 2s - loss: 1.0515 - val_loss: 1.2311\n",
      "Epoch 00009: early stopping\n",
      "3\n",
      "Train on 14144 samples, validate on 4715 samples\n",
      "Epoch 1/100\n",
      " - 6s - loss: 1.7028 - val_loss: 1.3145\n",
      "Epoch 2/100\n",
      " - 2s - loss: 1.2439 - val_loss: 1.2191\n",
      "Epoch 3/100\n",
      " - 2s - loss: 1.1709 - val_loss: 1.2042\n",
      "Epoch 4/100\n",
      " - 2s - loss: 1.1388 - val_loss: 1.2002\n",
      "Epoch 5/100\n",
      " - 2s - loss: 1.1148 - val_loss: 1.1994\n",
      "Epoch 6/100\n",
      " - 2s - loss: 1.0990 - val_loss: 1.1995\n",
      "Epoch 7/100\n",
      " - 2s - loss: 1.0816 - val_loss: 1.2075\n",
      "Epoch 8/100\n",
      " - 2s - loss: 1.0706 - val_loss: 1.2063\n",
      "Epoch 9/100\n",
      " - 2s - loss: 1.0558 - val_loss: 1.2156\n",
      "Epoch 00009: early stopping\n",
      "4\n",
      "Train on 14144 samples, validate on 4715 samples\n",
      "Epoch 1/100\n",
      " - 6s - loss: 1.7935 - val_loss: 1.3388\n",
      "Epoch 2/100\n",
      " - 2s - loss: 1.2538 - val_loss: 1.2502\n",
      "Epoch 3/100\n",
      " - 2s - loss: 1.1789 - val_loss: 1.2098\n",
      "Epoch 4/100\n",
      " - 2s - loss: 1.1450 - val_loss: 1.2036\n",
      "Epoch 5/100\n",
      " - 2s - loss: 1.1203 - val_loss: 1.2009\n",
      "Epoch 6/100\n",
      " - 2s - loss: 1.1007 - val_loss: 1.2056\n",
      "Epoch 7/100\n",
      " - 2s - loss: 1.0793 - val_loss: 1.2015\n",
      "Epoch 8/100\n",
      " - 2s - loss: 1.0611 - val_loss: 1.2145\n",
      "Epoch 9/100\n",
      " - 2s - loss: 1.0414 - val_loss: 1.2285\n",
      "Epoch 10/100\n",
      " - 2s - loss: 1.0200 - val_loss: 1.2375\n",
      "Epoch 00010: early stopping\n",
      "Training finished...Loading the best model\n",
      "\n",
      "Final accuracy: 0.5104984093319194\n"
     ]
    }
   ],
   "source": [
    "# Split into train/test\n",
    "x_train, x_test, y_train, y_test = train_test_split(x, y1, test_size=0.25, random_state=42)\n",
    "\n",
    "\n",
    "# Define ModelCheckpoint outside the loop\n",
    "checkpointer = ModelCheckpoint(filepath=\"/Users/avinashreddy/Desktop/215/best_weights1.hdf5\", verbose=0, save_best_only=True) # save best model\n",
    "\n",
    "for i in range(5):\n",
    "    print(i)\n",
    "\n",
    "    # Build network\n",
    "    model = Sequential()\n",
    "    model.add(Dense(20, input_dim=x.shape[1], activation='relu'))\n",
    "    model.add(Dense(10, activation='relu'))\n",
    "    model.add(Dense(10, activation='relu'))\n",
    "    model.add(Dense(y1.shape[1], activation='softmax'))\n",
    "    model.compile(loss='categorical_crossentropy', optimizer='adam')\n",
    "\n",
    "    monitor = EarlyStopping(monitor='val_loss', min_delta=1e-3, patience=5, verbose=1, mode='auto')\n",
    "\n",
    "    model.fit(x_train,y_train,validation_data=(x_test,y_test),callbacks=[monitor,checkpointer],verbose=2,epochs=100)\n",
    "\n",
    "\n",
    "print('Training finished...Loading the best model')  \n",
    "print()\n",
    "model.load_weights(\"/Users/avinashreddy/Desktop/215/best_weights1.hdf5\",) # load weights from best model\n",
    "\n",
    "# Measure accuracy\n",
    "pred = model.predict(x_test)\n",
    "pred = np.argmax(pred,axis=1)\n",
    "\n",
    "y_true = np.argmax(y_test,axis=1)\n",
    "\n",
    "score = metrics.accuracy_score(y_true, pred)\n",
    "print(\"Final accuracy: {}\".format(score))"
   ]
  },
  {
   "cell_type": "code",
   "execution_count": 118,
   "metadata": {},
   "outputs": [],
   "source": [
    "reviews=[]\n",
    "with open('yelp_academic_dataset_review.json') as f:\n",
    "    for line in f:\n",
    "        reviews.append(json.loads(line))\n",
    "reviews_df=pd.DataFrame.from_dict(reviews)"
   ]
  },
  {
   "cell_type": "code",
   "execution_count": 124,
   "metadata": {},
   "outputs": [],
   "source": [
    "reviews_df=reviews_df.sample(frac=.05)"
   ]
  },
  {
   "cell_type": "code",
   "execution_count": 125,
   "metadata": {},
   "outputs": [
    {
     "data": {
      "text/plain": [
       "(14992, 10)"
      ]
     },
     "execution_count": 125,
     "metadata": {},
     "output_type": "execute_result"
    }
   ],
   "source": [
    "reviews_df.shape"
   ]
  },
  {
   "cell_type": "code",
   "execution_count": 126,
   "metadata": {},
   "outputs": [
    {
     "data": {
      "text/html": [
       "<div>\n",
       "<style scoped>\n",
       "    .dataframe tbody tr th:only-of-type {\n",
       "        vertical-align: middle;\n",
       "    }\n",
       "\n",
       "    .dataframe tbody tr th {\n",
       "        vertical-align: top;\n",
       "    }\n",
       "\n",
       "    .dataframe thead th {\n",
       "        text-align: right;\n",
       "    }\n",
       "</style>\n",
       "<table border=\"1\" class=\"dataframe\">\n",
       "  <thead>\n",
       "    <tr style=\"text-align: right;\">\n",
       "      <th></th>\n",
       "      <th>business_id</th>\n",
       "      <th>cool</th>\n",
       "      <th>date</th>\n",
       "      <th>funny</th>\n",
       "      <th>review_id</th>\n",
       "      <th>stars</th>\n",
       "      <th>text</th>\n",
       "      <th>useful</th>\n",
       "      <th>user_id</th>\n",
       "      <th>text length</th>\n",
       "    </tr>\n",
       "  </thead>\n",
       "  <tbody>\n",
       "    <tr>\n",
       "      <th>398774</th>\n",
       "      <td>foQZ6guS0l49trURKh7vlA</td>\n",
       "      <td>0</td>\n",
       "      <td>2016-04-23</td>\n",
       "      <td>0</td>\n",
       "      <td>GHeqvRa5KqMjos7-lTIsHQ</td>\n",
       "      <td>3</td>\n",
       "      <td>Prime location on the strip and priced accordi...</td>\n",
       "      <td>0</td>\n",
       "      <td>ejXRID5wmZgCsH75gQZ24A</td>\n",
       "      <td>448</td>\n",
       "    </tr>\n",
       "    <tr>\n",
       "      <th>2723650</th>\n",
       "      <td>wSpZcL7QAI1tdR3LlbjaGw</td>\n",
       "      <td>0</td>\n",
       "      <td>2018-02-23</td>\n",
       "      <td>0</td>\n",
       "      <td>41v8tQZD9KIAyasymvi5JQ</td>\n",
       "      <td>1</td>\n",
       "      <td>Red carpet plumbing  arrived on time and tried...</td>\n",
       "      <td>0</td>\n",
       "      <td>UbLfJzKTtSxUlswWeRPMWQ</td>\n",
       "      <td>501</td>\n",
       "    </tr>\n",
       "  </tbody>\n",
       "</table>\n",
       "</div>"
      ],
      "text/plain": [
       "                    business_id  cool        date  funny  \\\n",
       "398774   foQZ6guS0l49trURKh7vlA     0  2016-04-23      0   \n",
       "2723650  wSpZcL7QAI1tdR3LlbjaGw     0  2018-02-23      0   \n",
       "\n",
       "                      review_id  stars  \\\n",
       "398774   GHeqvRa5KqMjos7-lTIsHQ      3   \n",
       "2723650  41v8tQZD9KIAyasymvi5JQ      1   \n",
       "\n",
       "                                                      text  useful  \\\n",
       "398774   Prime location on the strip and priced accordi...       0   \n",
       "2723650  Red carpet plumbing  arrived on time and tried...       0   \n",
       "\n",
       "                        user_id  text length  \n",
       "398774   ejXRID5wmZgCsH75gQZ24A          448  \n",
       "2723650  UbLfJzKTtSxUlswWeRPMWQ          501  "
      ]
     },
     "execution_count": 126,
     "metadata": {},
     "output_type": "execute_result"
    }
   ],
   "source": [
    "reviews_df['text length']=reviews_df['text'].apply(len)\n",
    "reviews_df.head(2)"
   ]
  },
  {
   "cell_type": "code",
   "execution_count": 128,
   "metadata": {},
   "outputs": [
    {
     "data": {
      "text/plain": [
       "<seaborn.axisgrid.FacetGrid at 0x1d2a64fe48>"
      ]
     },
     "execution_count": 128,
     "metadata": {},
     "output_type": "execute_result"
    },
    {
     "data": {
      "image/png": "[encoded data removed]",
      "text/plain": [
       "<Figure size 1080x216 with 5 Axes>"
      ]
     },
     "metadata": {},
     "output_type": "display_data"
    }
   ],
   "source": [
    "import seaborn as sns\n",
    "import matplotlib.pyplot as plt\n",
    "g=sns.FacetGrid(data=reviews_df,col='stars')\n",
    "g.map(plt.hist,'text length',bins=50)"
   ]
  },
  {
   "cell_type": "code",
   "execution_count": 129,
   "metadata": {},
   "outputs": [
    {
     "data": {
      "text/plain": [
       "<matplotlib.axes._subplots.AxesSubplot at 0x1d2b6952e8>"
      ]
     },
     "execution_count": 129,
     "metadata": {},
     "output_type": "execute_result"
    },
    {
     "data": {
      "image/png": "[encoded data removed]",
      "text/plain": [
       "<Figure size 432x288 with 1 Axes>"
      ]
     },
     "metadata": {},
     "output_type": "display_data"
    }
   ],
   "source": [
    "sns.boxplot(x='stars',y='text length',data=reviews_df)"
   ]
  },
  {
   "cell_type": "code",
   "execution_count": 130,
   "metadata": {},
   "outputs": [
    {
     "data": {
      "text/html": [
       "<div>\n",
       "<style scoped>\n",
       "    .dataframe tbody tr th:only-of-type {\n",
       "        vertical-align: middle;\n",
       "    }\n",
       "\n",
       "    .dataframe tbody tr th {\n",
       "        vertical-align: top;\n",
       "    }\n",
       "\n",
       "    .dataframe thead th {\n",
       "        text-align: right;\n",
       "    }\n",
       "</style>\n",
       "<table border=\"1\" class=\"dataframe\">\n",
       "  <thead>\n",
       "    <tr style=\"text-align: right;\">\n",
       "      <th></th>\n",
       "      <th>cool</th>\n",
       "      <th>funny</th>\n",
       "      <th>useful</th>\n",
       "      <th>text length</th>\n",
       "    </tr>\n",
       "  </thead>\n",
       "  <tbody>\n",
       "    <tr>\n",
       "      <th>cool</th>\n",
       "      <td>1.000000</td>\n",
       "      <td>-0.568517</td>\n",
       "      <td>-0.880963</td>\n",
       "      <td>-0.668907</td>\n",
       "    </tr>\n",
       "    <tr>\n",
       "      <th>funny</th>\n",
       "      <td>-0.568517</td>\n",
       "      <td>1.000000</td>\n",
       "      <td>0.755723</td>\n",
       "      <td>0.970777</td>\n",
       "    </tr>\n",
       "    <tr>\n",
       "      <th>useful</th>\n",
       "      <td>-0.880963</td>\n",
       "      <td>0.755723</td>\n",
       "      <td>1.000000</td>\n",
       "      <td>0.858904</td>\n",
       "    </tr>\n",
       "    <tr>\n",
       "      <th>text length</th>\n",
       "      <td>-0.668907</td>\n",
       "      <td>0.970777</td>\n",
       "      <td>0.858904</td>\n",
       "      <td>1.000000</td>\n",
       "    </tr>\n",
       "  </tbody>\n",
       "</table>\n",
       "</div>"
      ],
      "text/plain": [
       "                 cool     funny    useful  text length\n",
       "cool         1.000000 -0.568517 -0.880963    -0.668907\n",
       "funny       -0.568517  1.000000  0.755723     0.970777\n",
       "useful      -0.880963  0.755723  1.000000     0.858904\n",
       "text length -0.668907  0.970777  0.858904     1.000000"
      ]
     },
     "execution_count": 130,
     "metadata": {},
     "output_type": "execute_result"
    }
   ],
   "source": [
    "stars=reviews_df.groupby('stars').mean()\n",
    "stars.corr()"
   ]
  },
  {
   "cell_type": "code",
   "execution_count": 131,
   "metadata": {},
   "outputs": [
    {
     "data": {
      "text/plain": [
       "<matplotlib.axes._subplots.AxesSubplot at 0x1d2ba3fa90>"
      ]
     },
     "execution_count": 131,
     "metadata": {},
     "output_type": "execute_result"
    },
    {
     "data": {
      "image/png": "[encoded data removed]",
      "text/plain": [
       "<Figure size 432x288 with 2 Axes>"
      ]
     },
     "metadata": {},
     "output_type": "display_data"
    }
   ],
   "source": [
    "sns.heatmap(data=stars.corr(),annot=True)"
   ]
  },
  {
   "cell_type": "code",
   "execution_count": 132,
   "metadata": {},
   "outputs": [
    {
     "data": {
      "text/plain": [
       "(8630, 10)"
      ]
     },
     "execution_count": 132,
     "metadata": {},
     "output_type": "execute_result"
    }
   ],
   "source": [
    "reviews_1_5=reviews_df[(reviews_df['stars']==1)|(reviews_df['stars']==5)]\n",
    "reviews_1_5.shape"
   ]
  },
  {
   "cell_type": "code",
   "execution_count": 133,
   "metadata": {},
   "outputs": [],
   "source": [
    "x1=reviews_1_5['text']\n",
    "y2=reviews_1_5['stars']"
   ]
  },
  {
   "cell_type": "code",
   "execution_count": 138,
   "metadata": {},
   "outputs": [
    {
     "name": "stdout",
     "output_type": "stream",
     "text": [
      "[nltk_data] Downloading package stopwords to\n",
      "[nltk_data]     /Users/avinashreddy/nltk_data...\n",
      "[nltk_data]   Unzipping corpora/stopwords.zip.\n"
     ]
    },
    {
     "data": {
      "text/plain": [
       "True"
      ]
     },
     "execution_count": 138,
     "metadata": {},
     "output_type": "execute_result"
    }
   ],
   "source": [
    "import nltk\n",
    "from nltk.corpus import stopwords\n",
    "nltk.download('stopwords')\n",
    "\n"
   ]
  },
  {
   "cell_type": "code",
   "execution_count": 139,
   "metadata": {},
   "outputs": [],
   "source": [
    "import string\n",
    "def text_process(text):\n",
    "    '''\n",
    "    Takes in a string of text, then performs the following:\n",
    "    1. Remove all punctuation\n",
    "    2. Remove all stopwords\n",
    "    3. Return the cleaned text as a list of words\n",
    "    '''\n",
    "    nopunc = [char for char in text if char not in string.punctuation]\n",
    "    nopunc = ''.join(nopunc)\n",
    "    \n",
    "    return [word for word in nopunc.split() if word.lower() not in stopwords.words('english')]\n"
   ]
  },
  {
   "cell_type": "code",
   "execution_count": 155,
   "metadata": {},
   "outputs": [],
   "source": [
    "from sklearn.feature_extraction.text import CountVectorizer\n",
    "\n",
    "bow_transformer = CountVectorizer(analyzer=text_process).fit(x1)\n"
   ]
  },
  {
   "cell_type": "code",
   "execution_count": 156,
   "metadata": {},
   "outputs": [],
   "source": [
    "x1 = bow_transformer.transform(x1)\n"
   ]
  },
  {
   "cell_type": "code",
   "execution_count": 157,
   "metadata": {},
   "outputs": [],
   "source": [
    "from sklearn.model_selection import train_test_split\n",
    "x_train, x_test, y_train, y_test = train_test_split(x1, y2, test_size=0.3, random_state=101)\n"
   ]
  },
  {
   "cell_type": "code",
   "execution_count": 158,
   "metadata": {},
   "outputs": [
    {
     "data": {
      "text/plain": [
       "MultinomialNB(alpha=1.0, class_prior=None, fit_prior=True)"
      ]
     },
     "execution_count": 158,
     "metadata": {},
     "output_type": "execute_result"
    }
   ],
   "source": [
    "from sklearn.naive_bayes import MultinomialNB\n",
    "nb = MultinomialNB()\n",
    "nb.fit(x_train, y_train)\n"
   ]
  },
  {
   "cell_type": "code",
   "execution_count": 159,
   "metadata": {},
   "outputs": [],
   "source": [
    "preds = nb.predict(x_test)"
   ]
  },
  {
   "cell_type": "code",
   "execution_count": 160,
   "metadata": {},
   "outputs": [
    {
     "name": "stdout",
     "output_type": "stream",
     "text": [
      "[[ 538   87]\n",
      " [  88 1876]]\n",
      "\n",
      "\n",
      "             precision    recall  f1-score   support\n",
      "\n",
      "          1       0.86      0.86      0.86       625\n",
      "          5       0.96      0.96      0.96      1964\n",
      "\n",
      "avg / total       0.93      0.93      0.93      2589\n",
      "\n"
     ]
    }
   ],
   "source": [
    "from sklearn.metrics import confusion_matrix, classification_report\n",
    "print(confusion_matrix(y_test, preds))\n",
    "print('\\n')\n",
    "print(classification_report(y_test, preds))\n"
   ]
  },
  {
   "cell_type": "code",
   "execution_count": 170,
   "metadata": {},
   "outputs": [
    {
     "data": {
      "text/plain": [
       "\"Wow!!!! We were so anxious to go Check it out. A few people playing pool wouldn't release their slot machines at the bar do we can sit drink eat and play. Really????????? I couldn't believe how the bartender didn't even step up and say something. I guess we are not even going to try it out. You just lost our business.\""
      ]
     },
     "execution_count": 170,
     "metadata": {},
     "output_type": "execute_result"
    }
   ],
   "source": [
    "negative_review = reviews_1_5['text'][511094]\n",
    "negative_review"
   ]
  },
  {
   "cell_type": "code",
   "execution_count": 171,
   "metadata": {},
   "outputs": [
    {
     "data": {
      "text/plain": [
       "1"
      ]
     },
     "execution_count": 171,
     "metadata": {},
     "output_type": "execute_result"
    }
   ],
   "source": [
    "negative_review_transformed = bow_transformer.transform([negative_review])\n",
    "nb.predict(negative_review_transformed)[0]\n"
   ]
  },
  {
   "cell_type": "code",
   "execution_count": 173,
   "metadata": {},
   "outputs": [
    {
     "data": {
      "text/plain": [
       "'Excellent service! Customer service was awesome. Driver was on time and very courteous. Transaction with military and discount code for Yelp review was quick and easy. Came within the hour and dropping out vehicle off to a mechanic. I gave him the name of the mechanic waiting at the shop for our car, and he wrote it on the paper to just verify. I would def use again and recommend this company. Fast, easy, efficient, no hassle, great attitude and great service. Highly recommended!'"
      ]
     },
     "execution_count": 173,
     "metadata": {},
     "output_type": "execute_result"
    }
   ],
   "source": [
    "positive_review=reviews_1_5['text'][5448315]\n",
    "positive_review"
   ]
  },
  {
   "cell_type": "code",
   "execution_count": 174,
   "metadata": {},
   "outputs": [
    {
     "data": {
      "text/plain": [
       "5"
      ]
     },
     "execution_count": 174,
     "metadata": {},
     "output_type": "execute_result"
    }
   ],
   "source": [
    "positive_review_transformed = bow_transformer.transform([positive_review])\n",
    "nb.predict(positive_review_transformed)[0]\n"
   ]
  },
  {
   "cell_type": "code",
   "execution_count": 186,
   "metadata": {},
   "outputs": [
    {
     "name": "stdout",
     "output_type": "stream",
     "text": [
      "0\n",
      "Train on 6041 samples, validate on 2589 samples\n",
      "Epoch 1/100\n",
      " - 9s - loss: 1.5253 - val_loss: 1.9812\n",
      "Epoch 2/100\n",
      " - 4s - loss: 1.8067 - val_loss: 1.5843\n",
      "Epoch 3/100\n",
      " - 4s - loss: 1.5318 - val_loss: 1.7503\n",
      "Epoch 4/100\n",
      " - 4s - loss: 1.5678 - val_loss: 1.6854\n",
      "Epoch 5/100\n",
      " - 4s - loss: 1.4706 - val_loss: 1.7107\n",
      "Epoch 6/100\n",
      " - 4s - loss: 1.4333 - val_loss: 1.6249\n",
      "Epoch 7/100\n",
      " - 4s - loss: 1.3692 - val_loss: 1.6731\n",
      "Epoch 00007: early stopping\n",
      "1\n",
      "Train on 6041 samples, validate on 2589 samples\n",
      "Epoch 1/100\n",
      " - 9s - loss: 0.4854 - val_loss: 0.3953\n",
      "Epoch 2/100\n",
      " - 4s - loss: 0.0793 - val_loss: 0.5044\n",
      "Epoch 3/100\n",
      " - 4s - loss: 0.0182 - val_loss: 0.5432\n",
      "Epoch 4/100\n",
      " - 4s - loss: 0.0095 - val_loss: 0.5712\n",
      "Epoch 5/100\n",
      " - 4s - loss: 0.0036 - val_loss: 0.5570\n",
      "Epoch 6/100\n",
      " - 4s - loss: 0.0010 - val_loss: 0.5814\n",
      "Epoch 00006: early stopping\n",
      "2\n",
      "Train on 6041 samples, validate on 2589 samples\n",
      "Epoch 1/100\n",
      " - 9s - loss: 0.8050 - val_loss: 1.1335\n",
      "Epoch 2/100\n",
      " - 4s - loss: 0.9316 - val_loss: 0.8360\n",
      "Epoch 3/100\n",
      " - 4s - loss: 0.7732 - val_loss: 1.1828\n",
      "Epoch 4/100\n",
      " - 3s - loss: 0.6126 - val_loss: 0.8780\n",
      "Epoch 5/100\n",
      " - 3s - loss: 0.4798 - val_loss: 0.9594\n",
      "Epoch 6/100\n",
      " - 3s - loss: 0.3932 - val_loss: 0.8611\n",
      "Epoch 7/100\n",
      " - 4s - loss: 0.3688 - val_loss: 0.8523\n",
      "Epoch 00007: early stopping\n",
      "3\n",
      "Train on 6041 samples, validate on 2589 samples\n",
      "Epoch 1/100\n",
      " - 9s - loss: 0.5796 - val_loss: 0.8063\n",
      "Epoch 2/100\n",
      " - 4s - loss: 0.5753 - val_loss: 1.0596\n",
      "Epoch 3/100\n",
      " - 4s - loss: 0.4792 - val_loss: 0.7653\n",
      "Epoch 4/100\n",
      " - 4s - loss: 0.4098 - val_loss: 0.8214\n",
      "Epoch 5/100\n",
      " - 4s - loss: 0.3968 - val_loss: 0.7823\n",
      "Epoch 6/100\n",
      " - 4s - loss: 0.3416 - val_loss: 0.8119\n",
      "Epoch 7/100\n",
      " - 4s - loss: 0.2849 - val_loss: 0.7694\n",
      "Epoch 8/100\n",
      " - 4s - loss: 0.3154 - val_loss: 0.8085\n",
      "Epoch 00008: early stopping\n",
      "4\n",
      "Train on 6041 samples, validate on 2589 samples\n",
      "Epoch 1/100\n",
      " - 9s - loss: 0.7312 - val_loss: 0.7283\n",
      "Epoch 2/100\n",
      " - 4s - loss: 0.3853 - val_loss: 0.7445\n",
      "Epoch 3/100\n",
      " - 4s - loss: 0.3320 - val_loss: 0.7526\n",
      "Epoch 4/100\n",
      " - 4s - loss: 0.3167 - val_loss: 0.7474\n",
      "Epoch 5/100\n",
      " - 4s - loss: 0.2995 - val_loss: 0.7601\n",
      "Epoch 6/100\n",
      " - 4s - loss: 0.2965 - val_loss: 0.7620\n",
      "Epoch 00006: early stopping\n",
      "Training finished...Loading the best model\n",
      "\n"
     ]
    }
   ],
   "source": [
    "# Define ModelCheckpoint outside the loop\n",
    "checkpointer = ModelCheckpoint(filepath=\"/Users/avinashreddy/Desktop/215/best_weights2.hdf5\", verbose=0, save_best_only=True) # save best model\n",
    "\n",
    "for i in range(5):\n",
    "    print(i)\n",
    "\n",
    "    # Build network\n",
    "    model = Sequential()\n",
    "    model.add(Dense(20, input_dim=x1.shape[1], activation='relu'))\n",
    "    model.add(Dense(10, activation='relu'))\n",
    "    #model.add(Dense(1, activation='softmax'))\n",
    "    model.compile(loss=\"sparse_categorical_crossentropy\", optimizer='adam')\n",
    "\n",
    "    monitor = EarlyStopping(monitor='val_loss', min_delta=1e-3, patience=5, verbose=1, mode='auto')\n",
    "\n",
    "    model.fit(x_train,y_train,validation_data=(x_test,y_test),callbacks=[monitor,checkpointer],verbose=2,epochs=100)\n",
    "\n",
    "\n",
    "print('Training finished...Loading the best model')  \n",
    "print()\n",
    "model.load_weights(\"/Users/avinashreddy/Desktop/215/best_weights2.hdf5\",) # load weights from best model\n",
    "\n"
   ]
  },
  {
   "cell_type": "code",
   "execution_count": null,
   "metadata": {},
   "outputs": [],
   "source": []
  }
 ],
 "metadata": {
  "kernelspec": {
   "display_name": "Python 3",
   "language": "python",
   "name": "python3"
  },
  "language_info": {
   "codemirror_mode": {
    "name": "ipython",
    "version": 3
   },
   "file_extension": ".py",
   "mimetype": "text/x-python",
   "name": "python",
   "nbconvert_exporter": "python",
   "pygments_lexer": "ipython3",
   "version": "3.6.5"
  }
 },
 "nbformat": 4,
 "nbformat_minor": 2
}
